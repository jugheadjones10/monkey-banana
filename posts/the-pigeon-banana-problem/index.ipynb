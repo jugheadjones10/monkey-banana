{
 "cells": [
  {
   "cell_type": "raw",
   "metadata": {
    "vscode": {
     "languageId": "raw"
    }
   },
   "source": [
    "---\n",
    "title: \"‘Insight’ in the pigeon: antecedents and determinants of an intelligent  performance\"\n",
    "author: \"Kim Young Jin\"\n",
    "date: \"2024-05-10\"\n",
    "categories: [paper summary]\n",
    "doi: https://doi.org/10.1038/308061a0\n",
    "---"
   ]
  },
  {
   "cell_type": "markdown",
   "metadata": {},
   "source": [
    "Consider [this video](https://www.youtube.com/watch?v=mDntbGRPeEU) of a pigeon solving the monkey banana problem (or rather, the pigeon banana problem). You can see that there is some element of **exploration** - it climbs on top of the box, pecks at it, ascertains that the box's position can be moved. It also tries, in vain, to get at the banana, but soon realizes that it is out of reach.\n",
    "\n",
    "At one point it seems to make a mental connection and starts pushing the box towards the banana. Can we say that an action plan spontaneously formed in the brain of the pigeon? Was this plan-forming possible due to the pigeon's ability to **compose** actions it had previously been trained on?\n",
    "\n",
    "The paper describes the specific training procedure used to get the pigeon to do this. What's fascinating is that the subtasks never included the full end-to-end task. In other words, the pigeon in the video is solving a novel problem, somehow composing things it has \"learned\".\n",
    "\n",
    "Here are the two main subtasks that the pigeon was trained on:\n",
    "\n",
    "1. Directional pushing - the pigeon needs to push a box towards a green spot until the box covers the spot.\n",
    "2. Climbing and pecking - the pigeon needs to climb a box positioned under the banana and peck it.\n"
   ]
  }
 ],
 "metadata": {
  "language_info": {
   "name": "python"
  }
 },
 "nbformat": 4,
 "nbformat_minor": 2
}
